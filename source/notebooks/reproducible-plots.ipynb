{
 "cells": [
  {
   "cell_type": "markdown",
   "metadata": {},
   "source": [
    "# Creating Reproducible, Publication-Quality Plots with Matplotlib and Seaborn"
   ]
  },
  {
   "cell_type": "markdown",
   "metadata": {},
   "source": [
    "**Update:** this post was created from a Jupyter notebook, which you can access [here](https://nbviewer.jupyter.org/github/jhamrick/blog/blob/master/source/notebooks/reproducible-plots.ipynb)."
   ]
  },
  {
   "cell_type": "markdown",
   "metadata": {},
   "source": [
    "How should you create a plot for inclusion in a publication? A common workflow for Matlab or Python users—and one that I used to use myself—is to create a figure just using the defaults, export it as SVG, and open it Inkscape or Illustrator to make it look nice.\n",
    "\n",
    "This works fine if you only need to edit how a figure looks once. However, this is almost never the case. As you iterate further on the paper, your advisor may ask you to generate the plot a slightly different way. Or, perhaps, you find an off-by-one error in your code and need to regenerate the figure with the correct results. However, having to go through the whole process of re-editing your figures in a vector graphics program can take a *lot* of time, and thus this added time cost may discourage you from regenerating figures (even when you really should).\n",
    "\n",
    "However, there is another option, albeit with a higher startup cost. If you use Python, then Matplotlib actually exposes almost all the controls you need to make instantly reproducible, beautiful figures. The high startup cost is learning how to use those controls, which can take a lot of effort. However, I'd argue that this startup cost is entirely worth it. After having used Matplotlib exclusively for my figures since starting graduate school, I can now create a fully reproducible, publication-quality figure in about 10 minutes. In this blog post, I'll walk you through the steps needed to go from Matplotlib's defaults, to something useable in a publication."
   ]
  },
  {
   "cell_type": "raw",
   "metadata": {},
   "source": [
    "<!-- more -->"
   ]
  },
  {
   "cell_type": "markdown",
   "metadata": {},
   "source": [
    "## Setup"
   ]
  },
  {
   "cell_type": "markdown",
   "metadata": {},
   "source": [
    "Before I get started, I will import all the libraries that I need (except Seaborn, which I'll import and talk about later on). The libraries I need are [matplotlib](http://matplotlib.org/), [pandas](http://pandas.pydata.org/), and [numpy](http://www.numpy.org/). Below, I also print out the version of Python that I am using (3.5) as well as versions of each of the libraries:"
   ]
  },
  {
   "cell_type": "code",
   "execution_count": 1,
   "metadata": {
    "collapsed": true,
    "skip": true
   },
   "outputs": [],
   "source": [
    "# Special matplotlib import for the Jupyter notebook\n",
    "%matplotlib inline"
   ]
  },
  {
   "cell_type": "code",
   "execution_count": 2,
   "metadata": {
    "collapsed": false
   },
   "outputs": [
    {
     "name": "stdout",
     "output_type": "stream",
     "text": [
      "Python version:\n",
      "3.5.1 |Continuum Analytics, Inc.| (default, Dec  7 2015, 11:24:55) \n",
      "[GCC 4.2.1 (Apple Inc. build 5577)]\n",
      "\n",
      "matplotlib version: 1.5.1\n",
      "pandas version: 0.17.1\n",
      "numpy version: 1.10.4\n"
     ]
    }
   ],
   "source": [
    "# Built-in python libraries\n",
    "import sys\n",
    "import os\n",
    "from urllib.request import urlretrieve\n",
    "\n",
    "# 3rd-party libraries I'll be using\n",
    "import matplotlib\n",
    "import matplotlib.pyplot as plt\n",
    "import pandas as pd\n",
    "import numpy as np\n",
    "\n",
    "print(\"Python version:\\n{}\\n\".format(sys.version))\n",
    "print(\"matplotlib version: {}\".format(matplotlib.__version__))\n",
    "print(\"pandas version: {}\".format(pd.__version__))\n",
    "print(\"numpy version: {}\".format(np.__version__))"
   ]
  },
  {
   "cell_type": "markdown",
   "metadata": {},
   "source": [
    "Now that I've imported the libraries I need, I'll download the data that I'll be plotting:"
   ]
  },
  {
   "cell_type": "code",
   "execution_count": 3,
   "metadata": {
    "collapsed": false
   },
   "outputs": [
    {
     "name": "stdout",
     "output_type": "stream",
     "text": [
      "Downloaded task_data.csv\n"
     ]
    }
   ],
   "source": [
    "url = \"https://gist.githubusercontent.com/jhamrick/cfa18fcd3032ba435ec78a194b1447be/raw/4a4052c56161df8e454a61ab5286a769799c64b8/task_data.csv\"\n",
    "urlretrieve(url, \"task_data.csv\")\n",
    "print(\"Downloaded task_data.csv\")"
   ]
  },
  {
   "cell_type": "markdown",
   "metadata": {},
   "source": [
    "The data are from a recent publication of mine in which we were studying human-robot collaboration. Specifically, we looked at how different robot behaviors affected the completion of a set of tasks, both in terms of objective measures (such as completion time, or how equally the robot and human shared tasks) and subjective measures of preferences. In our experiment, we had three different robot behaviors (*fixed*, *reactive*, and *predictive*), and two different ways the robot obtained information about the human's goals (*oracle*, in which the robot had perfect knowledge, and *Bayesian*, in which the robot infers the human's goals based on their motion). For further details on the experimental design, please check out [the paper](http://www.jesshamrick.com/publications/pdf/Liu2016-Goal_Inference_Improves_Objective.pdf).\n",
    "\n",
    "Here, I'll be taking a look at the objective measure of how many tasks the robot completed. The data includes information about how many tasks the human completed, how many the robot completed, and how many were completed simultaneously by both agents:"
   ]
  },
  {
   "cell_type": "code",
   "execution_count": 4,
   "metadata": {
    "collapsed": false
   },
   "outputs": [
    {
     "data": {
      "text/html": [
       "<div>\n",
       "<table border=\"1\" class=\"dataframe\">\n",
       "  <thead>\n",
       "    <tr style=\"text-align: right;\">\n",
       "      <th></th>\n",
       "      <th>pid</th>\n",
       "      <th>robot</th>\n",
       "      <th>inference</th>\n",
       "      <th>human_tasks</th>\n",
       "      <th>robot_tasks</th>\n",
       "      <th>both_tasks</th>\n",
       "      <th>total_tasks</th>\n",
       "    </tr>\n",
       "  </thead>\n",
       "  <tbody>\n",
       "    <tr>\n",
       "      <th>0</th>\n",
       "      <td>00d648c5</td>\n",
       "      <td>fixed</td>\n",
       "      <td>oracle</td>\n",
       "      <td>15</td>\n",
       "      <td>15</td>\n",
       "      <td>9</td>\n",
       "      <td>39</td>\n",
       "    </tr>\n",
       "    <tr>\n",
       "      <th>1</th>\n",
       "      <td>00d648c5</td>\n",
       "      <td>predictive</td>\n",
       "      <td>oracle</td>\n",
       "      <td>23</td>\n",
       "      <td>15</td>\n",
       "      <td>1</td>\n",
       "      <td>39</td>\n",
       "    </tr>\n",
       "    <tr>\n",
       "      <th>2</th>\n",
       "      <td>00d648c5</td>\n",
       "      <td>reactive</td>\n",
       "      <td>oracle</td>\n",
       "      <td>18</td>\n",
       "      <td>17</td>\n",
       "      <td>4</td>\n",
       "      <td>39</td>\n",
       "    </tr>\n",
       "    <tr>\n",
       "      <th>3</th>\n",
       "      <td>01276036</td>\n",
       "      <td>fixed</td>\n",
       "      <td>oracle</td>\n",
       "      <td>25</td>\n",
       "      <td>11</td>\n",
       "      <td>3</td>\n",
       "      <td>39</td>\n",
       "    </tr>\n",
       "    <tr>\n",
       "      <th>4</th>\n",
       "      <td>01276036</td>\n",
       "      <td>predictive</td>\n",
       "      <td>oracle</td>\n",
       "      <td>25</td>\n",
       "      <td>14</td>\n",
       "      <td>0</td>\n",
       "      <td>39</td>\n",
       "    </tr>\n",
       "  </tbody>\n",
       "</table>\n",
       "</div>"
      ],
      "text/plain": [
       "        pid       robot inference  human_tasks  robot_tasks  both_tasks  \\\n",
       "0  00d648c5       fixed    oracle           15           15           9   \n",
       "1  00d648c5  predictive    oracle           23           15           1   \n",
       "2  00d648c5    reactive    oracle           18           17           4   \n",
       "3  01276036       fixed    oracle           25           11           3   \n",
       "4  01276036  predictive    oracle           25           14           0   \n",
       "\n",
       "   total_tasks  \n",
       "0           39  \n",
       "1           39  \n",
       "2           39  \n",
       "3           39  \n",
       "4           39  "
      ]
     },
     "execution_count": 4,
     "metadata": {},
     "output_type": "execute_result"
    }
   ],
   "source": [
    "task_data = pd.read_csv(\"task_data.csv\")\n",
    "task_data.head()"
   ]
  },
  {
   "cell_type": "markdown",
   "metadata": {},
   "source": [
    "## A first attempt"
   ]
  },
  {
   "cell_type": "markdown",
   "metadata": {},
   "source": [
    "So, what I'd like to do is create a plot that shows how many tasks the robot completed for each behavior type (fixed, reactive, or predictive) and each inference type (oracle or bayesian). The appropriate type of plot for this sort of data is probably a bar plot (or variants thereof, such as a box plot or violin plot). Thus, I first need to compute the values of the bars, which I'll take to just be the mean across participants:"
   ]
  },
  {
   "cell_type": "code",
   "execution_count": 5,
   "metadata": {
    "collapsed": false
   },
   "outputs": [
    {
     "data": {
      "text/plain": [
       "robot       inference\n",
       "fixed       bayesian     11.474227\n",
       "            oracle       11.696970\n",
       "predictive  bayesian     16.814433\n",
       "            oracle       15.121212\n",
       "reactive    bayesian     12.793814\n",
       "            oracle       12.808081\n",
       "Name: robot_tasks, dtype: float64"
      ]
     },
     "execution_count": 5,
     "metadata": {},
     "output_type": "execute_result"
    }
   ],
   "source": [
    "tasks = task_data.groupby(['robot', 'inference'])['robot_tasks'].mean()\n",
    "tasks"
   ]
  },
  {
   "cell_type": "markdown",
   "metadata": {},
   "source": [
    "Now, I can create my plot! I'll put the code to create the plot in a function called `plot_v1` just so I have easy access to it later, and also to differentiate it from different ways of creating the plot that I'll explore later:"
   ]
  },
  {
   "cell_type": "code",
   "execution_count": 6,
   "metadata": {
    "collapsed": false
   },
   "outputs": [
    {
     "data": {
      "image/png": "[encoded data removed]",
      "text/plain": [
       "<matplotlib.figure.Figure at 0x10c1c59e8>"
      ]
     },
     "metadata": {},
     "output_type": "display_data"
    }
   ],
   "source": [
    "def plot_v1(data):\n",
    "    # Create the figure and axis objects I'll be plotting on\n",
    "    fig, ax = plt.subplots()\n",
    "    \n",
    "    # Plot the bars\n",
    "    ax.bar(np.arange(len(data)), data, align='center')\n",
    "    \n",
    "    # Show the 50% mark, which would indicate an equal\n",
    "    # number of tasks being completed by the robot and the\n",
    "    # human. There are 39 tasks total, so 50% is 19.5\n",
    "    ax.hlines(19.5, -0.5, 5.5, linestyle='--', linewidth=1)\n",
    "    \n",
    "    # Set a reasonable y-axis limit\n",
    "    ax.set_ylim(0, 40)\n",
    "    \n",
    "    # Apply labels to the bars so you know which is which\n",
    "    ax.set_xticks(np.arange(len(data)))\n",
    "    ax.set_xticklabels([\"\\n\".join(x) for x in data.index])\n",
    "    \n",
    "    return fig, ax\n",
    "\n",
    "\n",
    "plot_v1(tasks);"
   ]
  },
  {
   "cell_type": "markdown",
   "metadata": {},
   "source": [
    "Not terrible, but not super pretty either. For one, the bars are all the same color, which makes it difficult to differentiate between them. The tick labels are also overlapping, which makes them difficult to read."
   ]
  },
  {
   "cell_type": "markdown",
   "metadata": {},
   "source": [
    "## Seaborn"
   ]
  },
  {
   "cell_type": "markdown",
   "metadata": {},
   "source": [
    "One way that you can instantly improve the style of your plots is to use a package called [seaborn](https://stanford.edu/~mwaskom/software/seaborn/). Seaborn comes with a nice default style that is applied as soon as it is imported, among a number of other incredibly useful functions."
   ]
  },
  {
   "cell_type": "code",
   "execution_count": 7,
   "metadata": {
    "collapsed": false,
    "scrolled": true
   },
   "outputs": [
    {
     "name": "stdout",
     "output_type": "stream",
     "text": [
      "seaborn version: 0.7.0\n"
     ]
    }
   ],
   "source": [
    "import seaborn as sns\n",
    "print(\"seaborn version: {}\".format(sns.__version__))"
   ]
  },
  {
   "cell_type": "markdown",
   "metadata": {},
   "source": [
    "Let's see how this plot changes, just with Seaborn's default style:"
   ]
  },
  {
   "cell_type": "code",
   "execution_count": 8,
   "metadata": {
    "collapsed": false
   },
   "outputs": [
    {
     "data": {
      "image/png": "[encoded data removed]",
      "text/plain": [
       "<matplotlib.figure.Figure at 0x10e276128>"
      ]
     },
     "metadata": {},
     "output_type": "display_data"
    }
   ],
   "source": [
    "plot_v1(tasks);"
   ]
  },
  {
   "cell_type": "markdown",
   "metadata": {},
   "source": [
    "Much nicer! The colors are easier on the eyes, and the labels aren't overlapping. There are still a number of other improvements I can make, however."
   ]
  },
  {
   "cell_type": "markdown",
   "metadata": {},
   "source": [
    "## Error bars"
   ]
  },
  {
   "cell_type": "markdown",
   "metadata": {},
   "source": [
    "One incredibly important aspect of publication-quality figures is to always include appropriate error bars. Many people use standard deviation or standard error, but I am personally a fan of bootstrapped confidence intervals. Seaborn also seems to agree with me, and includes functionality to calculate and plot the error bars for you! To use this functionality, I'll rely on Seaborn's [barplot](https://stanford.edu/~mwaskom/software/seaborn/tutorial/categorical.html#bar-plots) function:"
   ]
  },
  {
   "cell_type": "code",
   "execution_count": 9,
   "metadata": {
    "collapsed": false
   },
   "outputs": [
    {
     "data": {
      "image/png": "[encoded data removed]",
      "text/plain": [
       "<matplotlib.figure.Figure at 0x112a0ef98>"
      ]
     },
     "metadata": {},
     "output_type": "display_data"
    }
   ],
   "source": [
    "def plot_v2(data):\n",
    "    # Create the bar plot\n",
    "    ax = sns.barplot(\n",
    "        x=\"robot\", y=\"robot_tasks\", hue=\"inference\",\n",
    "        order=[\"fixed\", \"reactive\", \"predictive\"],\n",
    "        hue_order=[\"oracle\", \"bayesian\"],\n",
    "        data=data)\n",
    "\n",
    "    # Plot the 50% line\n",
    "    ax.hlines(19.5, -0.5, 4.5, linestyle='--', linewidth=1)\n",
    "    ax.set_ylim(0, 40)\n",
    "    \n",
    "    # Return the figure object and axis\n",
    "    return plt.gcf(), ax\n",
    "\n",
    "\n",
    "plot_v2(task_data);"
   ]
  },
  {
   "cell_type": "markdown",
   "metadata": {},
   "source": [
    "## Labels"
   ]
  },
  {
   "cell_type": "markdown",
   "metadata": {},
   "source": [
    "The `barplot` function gives us a legend telling us which color corresponds to which inference type. But, for this plot, I'd actually like to put the inference types under the bars as ticklabels, and then label each group of bars with the robot type. I can accomplish this by splitting the plot into three subplots, which is quite easy to do using Seaborn's [FacetGrid](https://stanford.edu/~mwaskom/software/seaborn/tutorial/axis_grids.html):"
   ]
  },
  {
   "cell_type": "code",
   "execution_count": 10,
   "metadata": {
    "collapsed": false
   },
   "outputs": [
    {
     "data": {
      "image/png": "[encoded data removed]",
      "text/plain": [
       "<matplotlib.figure.Figure at 0x112cfb048>"
      ]
     },
     "metadata": {},
     "output_type": "display_data"
    }
   ],
   "source": [
    "def plot_v3(data):\n",
    "    # Specify that I want each subplot to correspond to\n",
    "    # a different robot type\n",
    "    g = sns.FacetGrid(\n",
    "        data,\n",
    "        col=\"robot\",\n",
    "        col_order=[\"fixed\", \"reactive\", \"predictive\"],\n",
    "        sharex=False)\n",
    "\n",
    "    # Create the bar plot on each subplot\n",
    "    g.map(\n",
    "        sns.barplot,\n",
    "        \"robot\", \"robot_tasks\", \"inference\",\n",
    "        hue_order=[\"oracle\", \"bayesian\"])\n",
    "\n",
    "    # Now I need to draw the 50% lines on each subplot\n",
    "    # separately\n",
    "    axes = np.array(g.axes.flat)\n",
    "    for ax in axes:\n",
    "        ax.hlines(19.5, -0.5, 0.5, linestyle='--', linewidth=1)\n",
    "        ax.set_ylim(0, 40)\n",
    "\n",
    "    # Return the figure and axes objects\n",
    "    return plt.gcf(), axes\n",
    "\n",
    "\n",
    "plot_v3(task_data);"
   ]
  },
  {
   "cell_type": "markdown",
   "metadata": {},
   "source": [
    "Nice! But the labels are still not actually how I'd like them. I'll create a new function, `set_labels`, that actually sets them to how I'd like them:"
   ]
  },
  {
   "cell_type": "code",
   "execution_count": 11,
   "metadata": {
    "collapsed": false
   },
   "outputs": [
    {
     "data": {
      "image/png": "[encoded data removed]",
      "text/plain": [
       "<matplotlib.figure.Figure at 0x1138acda0>"
      ]
     },
     "metadata": {},
     "output_type": "display_data"
    }
   ],
   "source": [
    "def set_labels(fig, axes):\n",
    "    # These are the labels of each subplot\n",
    "    labels = [\"Fixed\", \"Reactive\", \"Predictive\"]\n",
    "    \n",
    "    # Iterate over each subplot and set the labels\n",
    "    for i, ax in enumerate(axes):\n",
    "\n",
    "        # Set the x-axis ticklabels\n",
    "        ax.set_xticks([-.2, .2])\n",
    "        ax.set_xticklabels([\"Bayesian\", \"Oracle\"])\n",
    "\n",
    "        # Set the label for each subplot\n",
    "        ax.set_xlabel(labels[i])\n",
    "        \n",
    "        # Remove the y-axis label and title\n",
    "        ax.set_ylabel(\"\")\n",
    "        ax.set_title(\"\")\n",
    "    \n",
    "    # Set the y-axis label only for the left subplot\n",
    "    axes.flat[0].set_ylabel(\"Number of tasks\")\n",
    "    \n",
    "    # Remove the \"spines\" (the lines surrounding the subplot)\n",
    "    # including the left spine for the 2nd and 3rd subplots\n",
    "    sns.despine(ax=axes[1], left=True)\n",
    "    sns.despine(ax=axes[2], left=True)\n",
    "\n",
    "    # Set the overall title for the plot\n",
    "    fig.suptitle(\"Single-agent tasks completed by the robot\", fontsize=12, x=0.55)\n",
    "\n",
    "\n",
    "fig, axes = plot_v3(task_data)\n",
    "set_labels(fig, axes)"
   ]
  },
  {
   "cell_type": "markdown",
   "metadata": {},
   "source": [
    "## Style"
   ]
  },
  {
   "cell_type": "markdown",
   "metadata": {},
   "source": [
    "The plot is looking much nicer at this point. However, it is still somewhat visually cluttered. For one, the background and gridlines are quite distracting. Additionally, I'd like to make the font match the text of the paper, which is a times-like serif. To do these things, I will define an additional `set_style` function that utilizes some of the methods that Seaborn exposes for controlling [figure aesthetics](https://stanford.edu/~mwaskom/software/seaborn/tutorial/aesthetics.html):"
   ]
  },
  {
   "cell_type": "code",
   "execution_count": 12,
   "metadata": {
    "collapsed": false
   },
   "outputs": [
    {
     "data": {
      "image/png": "[encoded data removed]",
      "text/plain": [
       "<matplotlib.figure.Figure at 0x11384ba58>"
      ]
     },
     "metadata": {},
     "output_type": "display_data"
    }
   ],
   "source": [
    "def set_style():\n",
    "    # This sets reasonable defaults for font size for\n",
    "    # a figure that will go in a paper\n",
    "    sns.set_context(\"paper\")\n",
    "    \n",
    "    # Set the font to be serif, rather than sans\n",
    "    sns.set(font='serif')\n",
    "    \n",
    "    # Make the background white, and specify the\n",
    "    # specific font family\n",
    "    sns.set_style(\"white\", {\n",
    "        \"font.family\": \"serif\",\n",
    "        \"font.serif\": [\"Times\", \"Palatino\", \"serif\"]\n",
    "    })\n",
    "\n",
    "\n",
    "set_style()\n",
    "fig, axes = plot_v3(task_data)\n",
    "set_labels(fig, axes)"
   ]
  },
  {
   "cell_type": "markdown",
   "metadata": {},
   "source": [
    "## Colors"
   ]
  },
  {
   "cell_type": "markdown",
   "metadata": {},
   "source": [
    "The plot really is almost there at this point. The last major change that I want to make is to adjust the colors. Specifically, I'd like to give each group of bars (corresponding to a robot type) a different color, and then make the individual bars (corresponding to inference types) lighter versions of those colors with hatch marks in the original color. To do this, I'll first specify an array with the colors I'd like for my bars:"
   ]
  },
  {
   "cell_type": "code",
   "execution_count": 13,
   "metadata": {
    "collapsed": false
   },
   "outputs": [],
   "source": [
    "def get_colors():\n",
    "    return np.array([\n",
    "        [0.1, 0.1, 0.1],          # black\n",
    "        [0.4, 0.4, 0.4],          # very dark gray\n",
    "        [0.7, 0.7, 0.7],          # dark gray\n",
    "        [0.9, 0.9, 0.9],          # light gray\n",
    "        [0.984375, 0.7265625, 0], # dark yellow\n",
    "        [1, 1, 0.9]               # light yellow\n",
    "    ])"
   ]
  },
  {
   "cell_type": "markdown",
   "metadata": {},
   "source": [
    "Seaborn comes with a nice convenience function for showing a set of colors, called `palplot`. I can use this to visualize my palette:"
   ]
  },
  {
   "cell_type": "code",
   "execution_count": 14,
   "metadata": {
    "collapsed": false
   },
   "outputs": [
    {
     "data": {
      "image/png": "[encoded data removed]",
      "text/plain": [
       "<matplotlib.figure.Figure at 0x112a046a0>"
      ]
     },
     "metadata": {},
     "output_type": "display_data"
    }
   ],
   "source": [
    "sns.palplot(get_colors())"
   ]
  },
  {
   "cell_type": "markdown",
   "metadata": {},
   "source": [
    "Now, I need to color each bar individually. This is a bit annoying to do, because the way I want to color the bars is somewhat nonstandard. Essentially, what I need to do is find each *patch*—matplotlib's terminology for the rectangle that corresponds to a bar—and set the color and hatch marks of each of these patches separately. I define the `color_bars` function to do just this:"
   ]
  },
  {
   "cell_type": "code",
   "execution_count": 15,
   "metadata": {
    "collapsed": false
   },
   "outputs": [
    {
     "data": {
      "image/png": "[encoded data removed]",
      "text/plain": [
       "<matplotlib.figure.Figure at 0x113826278>"
      ]
     },
     "metadata": {},
     "output_type": "display_data"
    }
   ],
   "source": [
    "def color_bars(axes, colors):\n",
    "    # Iterate over each subplot\n",
    "    for i in range(3):\n",
    "\n",
    "        # Pull out the dark and light colors for\n",
    "        # the current subplot\n",
    "        dark_color = colors[i*2]\n",
    "        light_color = colors[i*2 + 1]\n",
    "\n",
    "        # These are the patches (matplotlib's terminology\n",
    "        # for the rectangles corresponding to the bars)\n",
    "        p1, p2 = axes[i].patches\n",
    "\n",
    "        # The first bar gets the dark color\n",
    "        p1.set_color(dark_color)\n",
    "        \n",
    "        # The second bar gets the light color, plus\n",
    "        # hatch marks int he dark color\n",
    "        p2.set_color(light_color)\n",
    "        p2.set_edgecolor(dark_color)\n",
    "        p2.set_hatch('////')\n",
    "\n",
    "\n",
    "set_style()\n",
    "fig, axes = plot_v3(task_data)\n",
    "set_labels(fig, axes)\n",
    "color_bars(axes, get_colors())"
   ]
  },
  {
   "cell_type": "markdown",
   "metadata": {},
   "source": [
    "## Plot sizing"
   ]
  },
  {
   "cell_type": "markdown",
   "metadata": {},
   "source": [
    "The last thing I want to change is a smaller detail, which is the actual size of the plot. The above plot is much too wide for a single-column plot, so I need to resize it. Picking what size in inches you want for your plot is a bit of just trial-and-error, but I typically find that for single-column plots, a width of 6 inches typically works well:"
   ]
  },
  {
   "cell_type": "code",
   "execution_count": 16,
   "metadata": {
    "collapsed": false
   },
   "outputs": [
    {
     "data": {
      "image/png": "[encoded data removed]",
      "text/plain": [
       "<matplotlib.figure.Figure at 0x112ac9518>"
      ]
     },
     "metadata": {},
     "output_type": "display_data"
    }
   ],
   "source": [
    "def set_size(fig):\n",
    "    fig.set_size_inches(6, 3)\n",
    "    plt.tight_layout()\n",
    "\n",
    "\n",
    "set_style()\n",
    "fig, axes = plot_v3(task_data)\n",
    "set_labels(fig, axes)\n",
    "color_bars(axes, get_colors())\n",
    "set_size(fig)"
   ]
  },
  {
   "cell_type": "markdown",
   "metadata": {},
   "source": [
    "## Conclusion"
   ]
  },
  {
   "cell_type": "markdown",
   "metadata": {},
   "source": [
    "That's it! It may seem like a lot to learn to create just a single plot, but much of the code used to style this plot actually ends up being the same for most of the plots you create. All of the following operations are things I do in almost every single plot I create:\n",
    "\n",
    "* Set the x- and y-axis tick locations and labels\n",
    "* Set the x- and y-axis labels\n",
    "* Set the subplot and/or figure titles\n",
    "* Remove the top and right spines\n",
    "* Remove visual tick marks\n",
    "* Set the style to be \"white\" and the context to be \"paper\"\n",
    "* Set the figure size and call `plt.tight_layout()`\n",
    "\n",
    "The most unique thing about this particular plot is the way that I colored the bars, which (as I mentioned) is a bit nonstandard. However, now that I've figured out how to do that, I can reuse the code for similar plots. As it turned out, I needed to create three separate plots for this paper using the same bar coloring. Rather than having to color the bars by hand for each plot individually, I was able to figure out how to do it programmatically for one plot, and then reuse that code for the other plots."
   ]
  }
 ],
 "metadata": {
  "categories": [
   "programming"
  ],
  "celltoolbar": "Edit Metadata",
  "kernelspec": {
   "display_name": "Python 3",
   "language": "python",
   "name": "python3"
  },
  "language_info": {
   "codemirror_mode": {
    "name": "ipython",
    "version": 3
   },
   "file_extension": ".py",
   "mimetype": "text/x-python",
   "name": "python",
   "nbconvert_exporter": "python",
   "pygments_lexer": "ipython3",
   "version": "3.5.1"
  },
  "tags": [
   "data",
   "experiment",
   "graduate school",
   "guide",
   "matplotlib",
   "numpy",
   "pandas",
   "seaborn",
   "python",
   "scientific programming",
   "tutorial"
  ]
 },
 "nbformat": 4,
 "nbformat_minor": 0
}
